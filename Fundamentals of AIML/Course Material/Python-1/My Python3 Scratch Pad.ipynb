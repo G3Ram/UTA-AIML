{
 "cells": [
  {
   "cell_type": "markdown",
   "metadata": {},
   "source": [
    "# Fundamentals of AIML - Notes\n",
    "\n",
    "## Python Basics\n",
    "\n",
    "1. LaTex equations\n",
    "2. Key board shotcuts for Jupyter notebook\n",
    "    * shift + enter (Run the cell and go to the next cell)\n",
    "    * cmd + enter (Run the cell and stay on the same cell)\n",
    "    * alt + enter (Run the existing cell and create a new cell below)\n",
    "    * tab (Dropdown with suggestions)\n",
    "    * shift + tab (Python function description for that function)\n",
    "    \n",
    "## Numpy\n",
    "1. Math operations\n",
    "2. Sine, Cosine,.. \n",
    "3. Random variable generation\n",
    "4. Array generation"
   ]
  },
  {
   "cell_type": "code",
   "execution_count": 3,
   "metadata": {},
   "outputs": [],
   "source": [
    "# Vector - One dimensional Array\n",
    "# Matrix - Two dimentional Array\n",
    "# Tensor - More than two dimentional Array\n",
    "\n",
    "import numpy as np"
   ]
  },
  {
   "cell_type": "code",
   "execution_count": 5,
   "metadata": {},
   "outputs": [
    {
     "name": "stdout",
     "output_type": "stream",
     "text": [
      "[1 2 3]\n"
     ]
    }
   ],
   "source": [
    "vec = np.array([1,2,3])\n",
    "print(vec)"
   ]
  },
  {
   "cell_type": "code",
   "execution_count": 6,
   "metadata": {},
   "outputs": [
    {
     "name": "stdout",
     "output_type": "stream",
     "text": [
      "[[1 2 3]\n",
      " [4 5 6]\n",
      " [7 8 9]]\n"
     ]
    }
   ],
   "source": [
    "mat = np.array([[1,2,3],[4,5,6],[7,8,9]])\n",
    "print(mat)"
   ]
  },
  {
   "cell_type": "code",
   "execution_count": 7,
   "metadata": {},
   "outputs": [
    {
     "name": "stdout",
     "output_type": "stream",
     "text": [
      "[[1 4 7]\n",
      " [2 5 8]\n",
      " [3 6 9]]\n"
     ]
    }
   ],
   "source": [
    "print(mat.T)"
   ]
  },
  {
   "cell_type": "markdown",
   "metadata": {},
   "source": [
    "# arange\n",
    "We can create numpy arrays using 'arange' - array range\n",
    "\n",
    "Same syntax as range command\n",
    "\n",
    "arange(0,15) - 0 inclusive, 15 not included\n",
    "arange(starting - inclusive, ending - exclusive, step size)"
   ]
  },
  {
   "cell_type": "code",
   "execution_count": 8,
   "metadata": {},
   "outputs": [
    {
     "name": "stdout",
     "output_type": "stream",
     "text": [
      "[ 0  1  2  3  4  5  6  7  8  9 10 11 12 13 14]\n"
     ]
    }
   ],
   "source": [
    "vec2=np.arange(0,15)\n",
    "print(vec2)"
   ]
  },
  {
   "cell_type": "code",
   "execution_count": 11,
   "metadata": {},
   "outputs": [
    {
     "name": "stdout",
     "output_type": "stream",
     "text": [
      "[ 3  9 15]\n"
     ]
    }
   ],
   "source": [
    "vec3=np.arange(3,21,6)\n",
    "print(vec3)"
   ]
  },
  {
   "cell_type": "markdown",
   "metadata": {},
   "source": [
    "# linspace\n",
    "\n",
    "linspace(0,5,10) - starting point and ending point are inclusive\n",
    "\n",
    "linspace(starting - inclusive, ending - inclusive, how many points in the array)"
   ]
  },
  {
   "cell_type": "code",
   "execution_count": 16,
   "metadata": {},
   "outputs": [
    {
     "name": "stdout",
     "output_type": "stream",
     "text": [
      "[0.         0.45454545 0.90909091 1.36363636 1.81818182 2.27272727\n",
      " 2.72727273 3.18181818 3.63636364 4.09090909 4.54545455 5.        ]\n"
     ]
    }
   ],
   "source": [
    "vec4 = np.linspace(0,5,12);\n",
    "print(vec4)"
   ]
  },
  {
   "cell_type": "code",
   "execution_count": 18,
   "metadata": {},
   "outputs": [
    {
     "name": "stdout",
     "output_type": "stream",
     "text": [
      "[[0.         0.45454545 0.90909091]\n",
      " [1.36363636 1.81818182 2.27272727]\n",
      " [2.72727273 3.18181818 3.63636364]\n",
      " [4.09090909 4.54545455 5.        ]]\n",
      "[0.         0.45454545 0.90909091 1.36363636 1.81818182 2.27272727\n",
      " 2.72727273 3.18181818 3.63636364 4.09090909 4.54545455 5.        ]\n"
     ]
    }
   ],
   "source": [
    "vec5 = vec4.reshape(4,3)\n",
    "print(vec5)\n",
    "print(vec4)"
   ]
  },
  {
   "cell_type": "markdown",
   "metadata": {},
   "source": [
    "vec4 will not be reshaped."
   ]
  },
  {
   "cell_type": "code",
   "execution_count": 23,
   "metadata": {},
   "outputs": [
    {
     "name": "stdout",
     "output_type": "stream",
     "text": [
      "[[0. 0. 0.]\n",
      " [0. 0. 0.]\n",
      " [0. 0. 0.]\n",
      " [0. 0. 0.]\n",
      " [0. 0. 0.]]\n",
      "[[1.]\n",
      " [1.]\n",
      " [1.]]\n",
      "[[1. 0. 0.]\n",
      " [0. 1. 0.]\n",
      " [0. 0. 1.]]\n"
     ]
    }
   ],
   "source": [
    "# Create array of zeros\n",
    "mat2 = np.zeros([5,3])\n",
    "print(mat2)\n",
    "mat3 = np.ones((3,1))\n",
    "print(mat3)\n",
    "# Identity matrix\n",
    "mat4 = np.eye(3)\n",
    "print(mat4)"
   ]
  },
  {
   "cell_type": "markdown",
   "metadata": {},
   "source": [
    "# Working with Arrays - Vector"
   ]
  },
  {
   "cell_type": "code",
   "execution_count": 27,
   "metadata": {},
   "outputs": [
    {
     "name": "stdout",
     "output_type": "stream",
     "text": [
      "[ 8 10 12 14]\n",
      "[-6 -6 -6 -6]\n",
      "[0.14285714 0.25       0.33333333 0.4       ]\n",
      "[ 7 16 27 40]\n",
      "[1.         1.41421356 1.73205081 2.        ]\n"
     ]
    }
   ],
   "source": [
    "# We can +-/* arrays together if they're the right size\n",
    "vec6 = np.arange(1,5)\n",
    "vec7 = np.arange(7,11)\n",
    "print(vec6+vec7)\n",
    "print(vec6-vec7)\n",
    "print(vec6/vec7)\n",
    "print(vec6*vec7)\n",
    "print(np.sqrt(vec6))"
   ]
  },
  {
   "cell_type": "code",
   "execution_count": 28,
   "metadata": {},
   "outputs": [
    {
     "name": "stdout",
     "output_type": "stream",
     "text": [
      "[[0.91330347 0.61482899 0.12611336]\n",
      " [0.31848869 0.97671669 0.43935775]\n",
      " [0.08190698 0.28985833 0.51492953]\n",
      " [0.62322413 0.25913462 0.67552039]\n",
      " [0.95123271 0.07331332 0.6199837 ]]\n"
     ]
    }
   ],
   "source": [
    "# Randoms\n",
    "randNum = np.random.rand(5,3) -> Uniform random variable. None of them are greater than one or lesser than 0\n",
    "print(randNum)"
   ]
  },
  {
   "cell_type": "code",
   "execution_count": 33,
   "metadata": {},
   "outputs": [
    {
     "name": "stdout",
     "output_type": "stream",
     "text": [
      "[[-0.15786811  0.80537356 -0.25167375]\n",
      " [ 0.76599336  0.01308589 -0.15307101]]\n",
      "0.17030665572022874\n",
      "0.4421934406755447\n",
      "0.4985275106483741\n",
      "0.2956244537164232\n"
     ]
    }
   ],
   "source": [
    "randNumn = np.random.randn(2,3)\n",
    "print(randNumn)\n",
    "print(np.mean(randNumn))\n",
    "print(np.std(randNumn))\n",
    "print(np.mean(randNum))\n",
    "print(np.std(randNum))"
   ]
  },
  {
   "cell_type": "markdown",
   "metadata": {},
   "source": [
    "# Summary - Numpy 1\n",
    "* import numpy as np\n",
    "* np.array([1,2,3]) -> Converts python's list to array\n",
    "* np.array([[1,2],[3,4],[5,6]]) -> Gives a matrix (list of lists)\n",
    "* np.cos(np.pi)\n",
    "* np.sqrt(1.21)\n",
    "* np.log(np.exp(5.2))-> log base e\n",
    "* np.arange(0,15)\n",
    "* np.linspace(0,15,10)\n",
    "* np.zeros([3,5]) -> matrix with zeros - 3 rows and 5 columns\n",
    "* np.ones([4,5])\n",
    "* np.eye(5) - Identity matrix - row = column\n",
    "* reshape([3,4]) -> reshapes an array to the given row, column\n",
    "* np.random.rand(5,3) -> uniform random variable\n",
    "* np.mean(matrix)\n",
    "* np.std(matrix)"
   ]
  },
  {
   "cell_type": "code",
   "execution_count": 38,
   "metadata": {},
   "outputs": [
    {
     "name": "stdout",
     "output_type": "stream",
     "text": [
      "[-2.07458029 -1.85801267  0.28766641 -0.23970014 -0.29432201 -0.20238872\n",
      "  2.57723232 -1.10921928 -0.36111087  0.59325893  0.21735789 -0.28542138\n",
      "  0.20578589 -0.26622645  1.20719358 -0.01623848 -1.17556591 -0.13945271\n",
      " -1.26057478 -0.8863745 ]\n",
      "-0.20238871536000094\n"
     ]
    }
   ],
   "source": [
    "vec1 = np.random.randn(20)\n",
    "print(vec1)\n",
    "print(vec1[5])"
   ]
  },
  {
   "cell_type": "code",
   "execution_count": 37,
   "metadata": {},
   "outputs": [
    {
     "name": "stdout",
     "output_type": "stream",
     "text": [
      "[0.83487837 0.35211533]\n"
     ]
    }
   ],
   "source": [
    "print(vec1[2:4])"
   ]
  },
  {
   "cell_type": "code",
   "execution_count": 40,
   "metadata": {},
   "outputs": [
    {
     "name": "stdout",
     "output_type": "stream",
     "text": [
      "[-2.07458029 -0.20238872  0.21735789]\n"
     ]
    }
   ],
   "source": [
    "print(vec1[np.arange(0,15,5)])"
   ]
  },
  {
   "cell_type": "code",
   "execution_count": null,
   "metadata": {},
   "outputs": [],
   "source": []
  }
 ],
 "metadata": {
  "kernelspec": {
   "display_name": "Python 3",
   "language": "python",
   "name": "python3"
  },
  "language_info": {
   "codemirror_mode": {
    "name": "ipython",
    "version": 3
   },
   "file_extension": ".py",
   "mimetype": "text/x-python",
   "name": "python",
   "nbconvert_exporter": "python",
   "pygments_lexer": "ipython3",
   "version": "3.8.3"
  }
 },
 "nbformat": 4,
 "nbformat_minor": 4
}
